{
  "nbformat": 4,
  "nbformat_minor": 0,
  "metadata": {
    "colab": {
      "name": "assignment5_exception_handling.ipynb",
      "provenance": []
    },
    "kernelspec": {
      "name": "python3",
      "display_name": "Python 3"
    }
  },
  "cells": [
    {
      "cell_type": "markdown",
      "metadata": {
        "id": "ytyqI7Helak-",
        "colab_type": "text"
      },
      "source": [
        "[assignment pdf](https://drive.google.com/file/d/17_2m0rmrMtT3aPjlHyVci_zZk6UqSPXq/view)"
      ]
    },
    {
      "cell_type": "markdown",
      "metadata": {
        "id": "uPoXZtOcJY0k",
        "colab_type": "text"
      },
      "source": [
        "# 1. Write a function to compute `5/0` and use try/except to catch the exceptions."
      ]
    },
    {
      "cell_type": "code",
      "metadata": {
        "id": "wjMVY6tRJqA7",
        "colab_type": "code",
        "colab": {
          "base_uri": "https://localhost:8080/",
          "height": 34
        },
        "outputId": "c872e978-d8c0-4946-9350-791a375801f1"
      },
      "source": [
        "def zeroerror():\n",
        "  try:\n",
        "    print(5/0)\n",
        "  except ZeroDivisionError:\n",
        "    print('error')\n",
        "\n",
        "zeroerror()"
      ],
      "execution_count": 10,
      "outputs": [
        {
          "output_type": "stream",
          "text": [
            "error\n"
          ],
          "name": "stdout"
        }
      ]
    },
    {
      "cell_type": "markdown",
      "metadata": {
        "id": "Ns_Ur9CEeepC",
        "colab_type": "text"
      },
      "source": [
        "## Implement a Python program to generate all sentences where subject is in [\"Americans\", \"Indians\"] and verb is in [\"Play\", \"watch\"] and the object is in [\"Baseball\",\"cricket\"].\n",
        "\n",
        "Hint: Subject,Verb and Object should be declared in the program as shown below.\n",
        "```\n",
        "subjects=[\"Americans \",\"Indians\"]\n",
        "verbs=[\"play\",\"watch\"]\n",
        "objects=[\"Baseball\",\"Cricket\"]\n",
        "```\n",
        "\n",
        "\n",
        "\n",
        "Output should come as below:\n",
        "```\n",
        "Americans play Baseball.\n",
        "Americans play Cricket.\n",
        "Americans watch Baseball.\n",
        "Americans watch Cricket.\n",
        "Indians play Baseball.\n",
        "Indians play Cricket.\n",
        "Indians watch Baseball.\n",
        "Indians watch Cricket.\n",
        "```\n",
        "\n"
      ]
    },
    {
      "cell_type": "code",
      "metadata": {
        "id": "szHqrCIezUfd",
        "colab_type": "code",
        "colab": {}
      },
      "source": [
        "subjects=[\"Americans \",\"Indians\"]\n",
        "verbs=[\"play\",\"watch\"]\n",
        "objects=[\"Baseball\",\"Cricket\"]"
      ],
      "execution_count": 0,
      "outputs": []
    },
    {
      "cell_type": "code",
      "metadata": {
        "id": "SG0CPi7Gef3P",
        "colab_type": "code",
        "colab": {
          "base_uri": "https://localhost:8080/",
          "height": 156
        },
        "outputId": "8df0e1fc-303d-476d-a8d2-32a2d906c233"
      },
      "source": [
        "for i in subjects:\n",
        "  for j in verbs:\n",
        "    for k in objects:\n",
        "      print(i,j,k,end='.'\"\\n\" )"
      ],
      "execution_count": 14,
      "outputs": [
        {
          "output_type": "stream",
          "text": [
            "Americans  play Baseball.\n",
            "Americans  play Cricket.\n",
            "Americans  watch Baseball.\n",
            "Americans  watch Cricket.\n",
            "Indians play Baseball.\n",
            "Indians play Cricket.\n",
            "Indians watch Baseball.\n",
            "Indians watch Cricket.\n"
          ],
          "name": "stdout"
        }
      ]
    },
    {
      "cell_type": "code",
      "metadata": {
        "id": "9a82eL7vgn6D",
        "colab_type": "code",
        "colab": {}
      },
      "source": [
        ""
      ],
      "execution_count": 0,
      "outputs": []
    }
  ]
}